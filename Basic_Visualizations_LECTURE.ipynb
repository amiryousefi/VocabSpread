{
  "nbformat": 4,
  "nbformat_minor": 0,
  "metadata": {
    "colab": {
      "name": "Basic Visualizations - LECTURE.ipynb",
      "provenance": [],
      "collapsed_sections": [],
      "include_colab_link": true
    },
    "kernelspec": {
      "name": "python3",
      "display_name": "Python 3"
    }
  },
  "cells": [
    {
      "cell_type": "markdown",
      "metadata": {
        "id": "view-in-github",
        "colab_type": "text"
      },
      "source": [
        "<a href=\"https://colab.research.google.com/github/amiryousefi/VocabSpread/blob/master/Basic_Visualizations_LECTURE.ipynb\" target=\"_parent\"><img src=\"https://colab.research.google.com/assets/colab-badge.svg\" alt=\"Open In Colab\"/></a>"
      ]
    },
    {
      "cell_type": "markdown",
      "metadata": {
        "id": "ZvNsvUNNlZbi",
        "colab_type": "text"
      },
      "source": [
        "---\n",
        "# Lambda School Data Science - Intro to Pandas \n",
        "---\n",
        "# 05 - Basic Visualizations\n",
        "---\n",
        "\n"
      ]
    },
    {
      "cell_type": "markdown",
      "metadata": {
        "id": "f7sGhOifhpFD",
        "colab_type": "text"
      },
      "source": [
        "### Visualizing data speeds things up\n",
        "You know the saying, \"*a picture is worth a thousand words*?\" That applies to the world of data science as well. Visualizations are arguably the best way to communicate your insights to others. Moreover, they can help you in your exploratory data analysis (EDA) by highlighting certain patterns in your data and surfacing outliers or errors. Depending on the type of data, you'll want to use different visualizations. For now, we'll focus on discrete and continuous data.   \n",
        "\n",
        "**Discrete** basically means that it can only take specific values within a range. For example, if you recorded the gender of every person in this class, you'd have a discrete number of men or women. It would not make sense to say that \"there are 1.98 men\" or \"20.2 women.\" But if you were to take everyone's height, that would be a **continuous** variable. Because you can have a student that's 5 feet and 11.322243 inches tall. Or a woman that is 5 feet and 4.902929930 inches tall. In other words, continuous data is not restricted to specific, separate values. \n",
        "\n",
        "\n",
        "Python has _plenty_ of data visualization libraries. We'll use **matplotlib** today."
      ]
    },
    {
      "cell_type": "markdown",
      "metadata": {
        "id": "veCoTayWYvhi",
        "colab_type": "text"
      },
      "source": [
        "### Begin by importing your tools"
      ]
    },
    {
      "cell_type": "code",
      "metadata": {
        "id": "lwG232gHDwLT",
        "colab_type": "code",
        "colab": {}
      },
      "source": [
        "# Let's begin by importing pandas and matplotlib.\n",
        "import pandas as pd\n",
        "import matplotlib.pyplot as plt"
      ],
      "execution_count": 0,
      "outputs": []
    },
    {
      "cell_type": "markdown",
      "metadata": {
        "id": "oRH-6zIAX6D4",
        "colab_type": "text"
      },
      "source": [
        "## Reading in your data"
      ]
    },
    {
      "cell_type": "code",
      "metadata": {
        "id": "2-4aaacNyNl1",
        "colab_type": "code",
        "outputId": "1a396603-8f0b-4315-c286-ee366aa2219c",
        "colab": {
          "base_uri": "https://localhost:8080/",
          "height": 215
        }
      },
      "source": [
        "# We use the pandas method pandas.read_csv(\"filepath\") to create a DataFrame \n",
        "# and assign it to a variable:\n",
        "\n",
        "df = pd.read_csv(\"https://raw.githubusercontent.com/axrd/datasets/master/tipdata.csv\", usecols=['total_bill', 'tip', 'sex', 'smoker', 'day', 'time', 'size'])\n",
        "print(df.shape)\n",
        "df.head()"
      ],
      "execution_count": 0,
      "outputs": [
        {
          "output_type": "stream",
          "text": [
            "(244, 7)\n"
          ],
          "name": "stdout"
        },
        {
          "output_type": "execute_result",
          "data": {
            "text/html": [
              "<div>\n",
              "<style scoped>\n",
              "    .dataframe tbody tr th:only-of-type {\n",
              "        vertical-align: middle;\n",
              "    }\n",
              "\n",
              "    .dataframe tbody tr th {\n",
              "        vertical-align: top;\n",
              "    }\n",
              "\n",
              "    .dataframe thead th {\n",
              "        text-align: right;\n",
              "    }\n",
              "</style>\n",
              "<table border=\"1\" class=\"dataframe\">\n",
              "  <thead>\n",
              "    <tr style=\"text-align: right;\">\n",
              "      <th></th>\n",
              "      <th>total_bill</th>\n",
              "      <th>tip</th>\n",
              "      <th>sex</th>\n",
              "      <th>smoker</th>\n",
              "      <th>day</th>\n",
              "      <th>time</th>\n",
              "      <th>size</th>\n",
              "    </tr>\n",
              "  </thead>\n",
              "  <tbody>\n",
              "    <tr>\n",
              "      <th>0</th>\n",
              "      <td>16.99</td>\n",
              "      <td>1.01</td>\n",
              "      <td>Female</td>\n",
              "      <td>No</td>\n",
              "      <td>Sun</td>\n",
              "      <td>Dinner</td>\n",
              "      <td>2</td>\n",
              "    </tr>\n",
              "    <tr>\n",
              "      <th>1</th>\n",
              "      <td>10.34</td>\n",
              "      <td>1.66</td>\n",
              "      <td>Male</td>\n",
              "      <td>No</td>\n",
              "      <td>Sun</td>\n",
              "      <td>Dinner</td>\n",
              "      <td>3</td>\n",
              "    </tr>\n",
              "    <tr>\n",
              "      <th>2</th>\n",
              "      <td>21.01</td>\n",
              "      <td>3.50</td>\n",
              "      <td>Male</td>\n",
              "      <td>No</td>\n",
              "      <td>Sun</td>\n",
              "      <td>Dinner</td>\n",
              "      <td>3</td>\n",
              "    </tr>\n",
              "    <tr>\n",
              "      <th>3</th>\n",
              "      <td>23.68</td>\n",
              "      <td>3.31</td>\n",
              "      <td>Male</td>\n",
              "      <td>No</td>\n",
              "      <td>Sun</td>\n",
              "      <td>Dinner</td>\n",
              "      <td>2</td>\n",
              "    </tr>\n",
              "    <tr>\n",
              "      <th>4</th>\n",
              "      <td>24.59</td>\n",
              "      <td>3.61</td>\n",
              "      <td>Female</td>\n",
              "      <td>No</td>\n",
              "      <td>Sun</td>\n",
              "      <td>Dinner</td>\n",
              "      <td>4</td>\n",
              "    </tr>\n",
              "  </tbody>\n",
              "</table>\n",
              "</div>"
            ],
            "text/plain": [
              "   total_bill   tip     sex smoker  day    time  size\n",
              "0       16.99  1.01  Female     No  Sun  Dinner     2\n",
              "1       10.34  1.66    Male     No  Sun  Dinner     3\n",
              "2       21.01  3.50    Male     No  Sun  Dinner     3\n",
              "3       23.68  3.31    Male     No  Sun  Dinner     2\n",
              "4       24.59  3.61  Female     No  Sun  Dinner     4"
            ]
          },
          "metadata": {
            "tags": []
          },
          "execution_count": 2
        }
      ]
    },
    {
      "cell_type": "markdown",
      "metadata": {
        "id": "TXvBbG-M2BQR",
        "colab_type": "text"
      },
      "source": [
        "## Histogram  \n",
        "Histograms are best suited for visualizing *CONTINUOUS* data, one variable at a time. The x-axis shows the range of values being counted. The y-axis shows the frequency, or how often those values show up in our data.  \n",
        "\n",
        "\n",
        "[Documentation](https://pandas.pydata.org/pandas-docs/stable/reference/api/pandas.DataFrame.plot.html)"
      ]
    },
    {
      "cell_type": "code",
      "metadata": {
        "id": "JZ2o7IIyuvGI",
        "colab_type": "code",
        "outputId": "7d85e868-e673-45e2-bf62-a5ddf16d2373",
        "colab": {
          "base_uri": "https://localhost:8080/",
          "height": 281
        }
      },
      "source": [
        "# Here's a great way to get an overview of our data:\n",
        "df['tip'].plot('hist', title='Tip Distribution', bins=40)\n",
        "plt.show()\n",
        "\n",
        "# We select a column/feature, chain the plot() method to it, and pass the string\n",
        "# 'hist' to the plot method to specify a histogram. Finally, we call the show() \n",
        "# method to display the visualization. "
      ],
      "execution_count": 0,
      "outputs": [
        {
          "output_type": "display_data",
          "data": {
            "image/png": "[encoded data removed]",
            "text/plain": [
              "<Figure size 432x288 with 1 Axes>"
            ]
          },
          "metadata": {
            "tags": []
          }
        }
      ]
    },
    {
      "cell_type": "code",
      "metadata": {
        "id": "Ek9TJBnBWuwQ",
        "colab_type": "code",
        "outputId": "675944ed-3412-461e-ceea-22c049c615d0",
        "colab": {
          "base_uri": "https://localhost:8080/",
          "height": 269
        }
      },
      "source": [
        "# Here's another way to do the same thing with a different feature/column:\n",
        "\n",
        "df['total_bill'].hist(bins=40);"
      ],
      "execution_count": 0,
      "outputs": [
        {
          "output_type": "display_data",
          "data": {
            "image/png": "[encoded data removed]",
            "text/plain": [
              "<Figure size 432x288 with 1 Axes>"
            ]
          },
          "metadata": {
            "tags": []
          }
        }
      ]
    },
    {
      "cell_type": "code",
      "metadata": {
        "id": "uepBUxTkM0Dq",
        "colab_type": "code",
        "outputId": "17bdd52f-fdbd-4742-d4ba-909ab3b1e4c6",
        "colab": {
          "base_uri": "https://localhost:8080/",
          "height": 269
        }
      },
      "source": [
        "# Here's a differnet default plot called a density plot or KDE plot (kernel density estimation)\n",
        "# Basically it smooths out a histogram and has an area under the curve of 1.\n",
        "\n",
        "df['total_bill'].plot.density();"
      ],
      "execution_count": 0,
      "outputs": [
        {
          "output_type": "display_data",
          "data": {
            "image/png": "[encoded data removed]",
            "text/plain": [
              "<Figure size 432x288 with 1 Axes>"
            ]
          },
          "metadata": {
            "tags": []
          }
        }
      ]
    },
    {
      "cell_type": "code",
      "metadata": {
        "id": "BVz5opPmX-Cm",
        "colab_type": "code",
        "outputId": "d81f96c7-2c60-4c60-a39b-1870cb0fd49c",
        "colab": {
          "base_uri": "https://localhost:8080/",
          "height": 269
        }
      },
      "source": [
        "df['size'].hist(bins=20);"
      ],
      "execution_count": 0,
      "outputs": [
        {
          "output_type": "display_data",
          "data": {
            "image/png": "[encoded data removed]",
            "text/plain": [
              "<Figure size 432x288 with 1 Axes>"
            ]
          },
          "metadata": {
            "tags": []
          }
        }
      ]
    },
    {
      "cell_type": "code",
      "metadata": {
        "id": "BPXcTthwEVi3",
        "colab_type": "code",
        "outputId": "a19ab97f-c99c-432d-cae6-e365c58457a3",
        "colab": {
          "base_uri": "https://localhost:8080/",
          "height": 138
        }
      },
      "source": [
        "df['size'].value_counts()"
      ],
      "execution_count": 0,
      "outputs": [
        {
          "output_type": "execute_result",
          "data": {
            "text/plain": [
              "2    156\n",
              "3     38\n",
              "4     37\n",
              "5      5\n",
              "6      4\n",
              "1      4\n",
              "Name: size, dtype: int64"
            ]
          },
          "metadata": {
            "tags": []
          },
          "execution_count": 14
        }
      ]
    },
    {
      "cell_type": "markdown",
      "metadata": {
        "id": "-z392XOEYExS",
        "colab_type": "text"
      },
      "source": [
        "That looks a bit weird. The columns begin after (or before) the number ticks. That's because \"size\" is a discrete variable and histograms expect continuous values."
      ]
    },
    {
      "cell_type": "markdown",
      "metadata": {
        "id": "X239QCLc1uI5",
        "colab_type": "text"
      },
      "source": [
        "## Bar plot  \n",
        "Useful for discrete data counts. "
      ]
    },
    {
      "cell_type": "code",
      "metadata": {
        "id": "TPr2efsvfAXk",
        "colab_type": "code",
        "outputId": "c925881b-ddb9-42dd-fc9a-7b7e200bc408",
        "colab": {
          "base_uri": "https://localhost:8080/",
          "height": 265
        }
      },
      "source": [
        "# Same as above, but using the correct visualization:\n",
        "df['size'].value_counts().plot(kind='bar');"
      ],
      "execution_count": 0,
      "outputs": [
        {
          "output_type": "display_data",
          "data": {
            "image/png": "[encoded data removed]",
            "text/plain": [
              "<Figure size 432x288 with 1 Axes>"
            ]
          },
          "metadata": {
            "tags": []
          }
        }
      ]
    },
    {
      "cell_type": "code",
      "metadata": {
        "id": "iwSL8__3E-ws",
        "colab_type": "code",
        "outputId": "13ca435b-cbf5-4756-e8c1-6b3b2fd2c01c",
        "colab": {
          "base_uri": "https://localhost:8080/",
          "height": 104
        }
      },
      "source": [
        "df['day'].value_counts()"
      ],
      "execution_count": 0,
      "outputs": [
        {
          "output_type": "execute_result",
          "data": {
            "text/plain": [
              "Sat     87\n",
              "Sun     76\n",
              "Thur    62\n",
              "Fri     19\n",
              "Name: day, dtype: int64"
            ]
          },
          "metadata": {
            "tags": []
          },
          "execution_count": 20
        }
      ]
    },
    {
      "cell_type": "code",
      "metadata": {
        "id": "UhXr3OYH5hX5",
        "colab_type": "code",
        "outputId": "27ebcab1-5ed3-4660-c928-cf751e72bafa",
        "colab": {
          "base_uri": "https://localhost:8080/",
          "height": 283
        }
      },
      "source": [
        "# Same thing, but for \"day\":\n",
        "df['day'].value_counts().plot(kind='bar');"
      ],
      "execution_count": 0,
      "outputs": [
        {
          "output_type": "display_data",
          "data": {
            "image/png": "[encoded data removed]",
            "text/plain": [
              "<Figure size 432x288 with 1 Axes>"
            ]
          },
          "metadata": {
            "tags": []
          }
        }
      ]
    },
    {
      "cell_type": "code",
      "metadata": {
        "id": "g4hLUhyDe291",
        "colab_type": "code",
        "outputId": "4c8f1133-beef-4936-bcd6-486184777dbe",
        "colab": {
          "base_uri": "https://localhost:8080/",
          "height": 269
        }
      },
      "source": [
        "# If you fancy a horizontal view, \"barh\":\n",
        "df['day'].value_counts().plot(kind='barh');"
      ],
      "execution_count": 0,
      "outputs": [
        {
          "output_type": "display_data",
          "data": {
            "image/png": "[encoded data removed]",
            "text/plain": [
              "<Figure size 432x288 with 1 Axes>"
            ]
          },
          "metadata": {
            "tags": []
          }
        }
      ]
    },
    {
      "cell_type": "markdown",
      "metadata": {
        "id": "TR0Y4x49XyY4",
        "colab_type": "text"
      },
      "source": [
        "## Scatter plot  \n",
        "Useful to visualize the relationship between two numeric variables."
      ]
    },
    {
      "cell_type": "code",
      "metadata": {
        "id": "e4KGpNxcYWY4",
        "colab_type": "code",
        "outputId": "63885ab3-1f2e-4b41-e0d6-e2f4fa15059d",
        "colab": {
          "base_uri": "https://localhost:8080/",
          "height": 284
        }
      },
      "source": [
        "df.plot.scatter(x='total_bill', y='tip');"
      ],
      "execution_count": 0,
      "outputs": [
        {
          "output_type": "display_data",
          "data": {
            "image/png": "[encoded data removed]",
            "text/plain": [
              "<Figure size 432x288 with 1 Axes>"
            ]
          },
          "metadata": {
            "tags": []
          }
        }
      ]
    },
    {
      "cell_type": "code",
      "metadata": {
        "id": "BGzO4kA6Fi4o",
        "colab_type": "code",
        "outputId": "4266c7b5-0d7b-4522-993d-859863a6ece6",
        "colab": {
          "base_uri": "https://localhost:8080/",
          "height": 285
        }
      },
      "source": [
        "df.plot.scatter(x='total_bill', y='size');"
      ],
      "execution_count": 0,
      "outputs": [
        {
          "output_type": "display_data",
          "data": {
            "image/png": "[encoded data removed]",
            "text/plain": [
              "<Figure size 432x288 with 1 Axes>"
            ]
          },
          "metadata": {
            "tags": []
          }
        }
      ]
    },
    {
      "cell_type": "markdown",
      "metadata": {
        "id": "F8N-D9NOfgkE",
        "colab_type": "text"
      },
      "source": [
        "As we'd imagine, the bigger the bill, the bigger the tip. "
      ]
    },
    {
      "cell_type": "markdown",
      "metadata": {
        "id": "7BqbpyNyzxqk",
        "colab_type": "text"
      },
      "source": [
        "## Boxplots  \n",
        "Great way to find outliers (values that are really far from the rest of their type)."
      ]
    },
    {
      "cell_type": "code",
      "metadata": {
        "id": "1-RFTwehGCXd",
        "colab_type": "code",
        "outputId": "c7e604fa-597b-4128-812d-3590635f72ea",
        "colab": {
          "base_uri": "https://localhost:8080/",
          "height": 288
        }
      },
      "source": [
        "df.describe()"
      ],
      "execution_count": 0,
      "outputs": [
        {
          "output_type": "execute_result",
          "data": {
            "text/html": [
              "<div>\n",
              "<style scoped>\n",
              "    .dataframe tbody tr th:only-of-type {\n",
              "        vertical-align: middle;\n",
              "    }\n",
              "\n",
              "    .dataframe tbody tr th {\n",
              "        vertical-align: top;\n",
              "    }\n",
              "\n",
              "    .dataframe thead th {\n",
              "        text-align: right;\n",
              "    }\n",
              "</style>\n",
              "<table border=\"1\" class=\"dataframe\">\n",
              "  <thead>\n",
              "    <tr style=\"text-align: right;\">\n",
              "      <th></th>\n",
              "      <th>total_bill</th>\n",
              "      <th>tip</th>\n",
              "      <th>size</th>\n",
              "    </tr>\n",
              "  </thead>\n",
              "  <tbody>\n",
              "    <tr>\n",
              "      <th>count</th>\n",
              "      <td>244.000000</td>\n",
              "      <td>244.000000</td>\n",
              "      <td>244.000000</td>\n",
              "    </tr>\n",
              "    <tr>\n",
              "      <th>mean</th>\n",
              "      <td>19.785943</td>\n",
              "      <td>2.998279</td>\n",
              "      <td>2.569672</td>\n",
              "    </tr>\n",
              "    <tr>\n",
              "      <th>std</th>\n",
              "      <td>8.902412</td>\n",
              "      <td>1.383638</td>\n",
              "      <td>0.951100</td>\n",
              "    </tr>\n",
              "    <tr>\n",
              "      <th>min</th>\n",
              "      <td>3.070000</td>\n",
              "      <td>1.000000</td>\n",
              "      <td>1.000000</td>\n",
              "    </tr>\n",
              "    <tr>\n",
              "      <th>25%</th>\n",
              "      <td>13.347500</td>\n",
              "      <td>2.000000</td>\n",
              "      <td>2.000000</td>\n",
              "    </tr>\n",
              "    <tr>\n",
              "      <th>50%</th>\n",
              "      <td>17.795000</td>\n",
              "      <td>2.900000</td>\n",
              "      <td>2.000000</td>\n",
              "    </tr>\n",
              "    <tr>\n",
              "      <th>75%</th>\n",
              "      <td>24.127500</td>\n",
              "      <td>3.562500</td>\n",
              "      <td>3.000000</td>\n",
              "    </tr>\n",
              "    <tr>\n",
              "      <th>max</th>\n",
              "      <td>50.810000</td>\n",
              "      <td>10.000000</td>\n",
              "      <td>6.000000</td>\n",
              "    </tr>\n",
              "  </tbody>\n",
              "</table>\n",
              "</div>"
            ],
            "text/plain": [
              "       total_bill         tip        size\n",
              "count  244.000000  244.000000  244.000000\n",
              "mean    19.785943    2.998279    2.569672\n",
              "std      8.902412    1.383638    0.951100\n",
              "min      3.070000    1.000000    1.000000\n",
              "25%     13.347500    2.000000    2.000000\n",
              "50%     17.795000    2.900000    2.000000\n",
              "75%     24.127500    3.562500    3.000000\n",
              "max     50.810000   10.000000    6.000000"
            ]
          },
          "metadata": {
            "tags": []
          },
          "execution_count": 25
        }
      ]
    },
    {
      "cell_type": "code",
      "metadata": {
        "id": "u49qzTU-_UD7",
        "colab_type": "code",
        "outputId": "6b1cc6dc-cd69-495a-e26e-c452bb3cbc2d",
        "colab": {
          "base_uri": "https://localhost:8080/",
          "height": 301
        }
      },
      "source": [
        "df.boxplot(column='tip', by='size')\n",
        "plt.show()"
      ],
      "execution_count": 0,
      "outputs": [
        {
          "output_type": "display_data",
          "data": {
            "image/png": "[encoded data removed]",
            "text/plain": [
              "<Figure size 432x288 with 1 Axes>"
            ]
          },
          "metadata": {
            "tags": []
          }
        }
      ]
    },
    {
      "cell_type": "markdown",
      "metadata": {
        "id": "pNtfYCk-_VBw",
        "colab_type": "text"
      },
      "source": [
        "\n",
        "\n",
        "---\n",
        "\n",
        "\n",
        "## Assignment time!"
      ]
    }
  ]
}